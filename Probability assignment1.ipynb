{
 "cells": [
  {
   "cell_type": "markdown",
   "id": "2d9aa54e",
   "metadata": {},
   "source": [
    "# 1. Define Experiment, Sample space, Outcome and Event.\n",
    "\n"
   ]
  },
  {
   "cell_type": "code",
   "execution_count": null,
   "id": "187e4e2e",
   "metadata": {},
   "outputs": [],
   "source": [
    " EXPERIMENT. 1. : a scientific test in which you perform a series of actions and carefully observe their effects in order to learn about something."
   ]
  },
  {
   "cell_type": "code",
   "execution_count": null,
   "id": "accd136f",
   "metadata": {},
   "outputs": [],
   "source": [
    "Sample space: sample space defines all the possible outcomes for the random experiment"
   ]
  },
  {
   "cell_type": "code",
   "execution_count": null,
   "id": "73e3a8bf",
   "metadata": {},
   "outputs": [],
   "source": [
    "Outcome and Event : An outcome is the result of a random experiment and Event is nothing but our favourable outcomes"
   ]
  },
  {
   "cell_type": "markdown",
   "id": "b020b9db",
   "metadata": {},
   "source": [
    "# 2. What is probability and explain different types of probability?"
   ]
  },
  {
   "cell_type": "code",
   "execution_count": null,
   "id": "438c46d0",
   "metadata": {},
   "outputs": [],
   "source": [
    "# Probability is the branch of mathematics that deals with the study of random events and how likely they are to occur. It's a numerical measure of the likelihood of a specific event, expressed as a value between 0 and 1, where 0 represents an impossible event and 1 represents a certain event.\n",
    "\n",
    "There are two types of probability:\n",
    "\n",
    "# Classical Probability: It assumes equally likely outcomes and calculates the probability of an event by dividing the number of favorable outcomes by the number of possible outcomes.\n",
    "\n",
    "# Empirical Probability: It is based on observed frequencies and calculates the probability of an event by dividing the number of times the event has occurred by the number of trials.\n",
    "\n",
    "# Subjective Probability: It is based on personal opinions or beliefs and calculates the probability of an event based on an individual's assessment of the situation.\n",
    "\n",
    "# Axiomatic Probability: It is based on a set of axioms or rules that define probability and is used to mathematically model uncertain situations."
   ]
  },
  {
   "cell_type": "code",
   "execution_count": null,
   "id": "d7655d95",
   "metadata": {},
   "outputs": [],
   "source": []
  },
  {
   "cell_type": "code",
   "execution_count": null,
   "id": "c7145d65",
   "metadata": {},
   "outputs": [],
   "source": []
  },
  {
   "cell_type": "markdown",
   "id": "e73b4d9f",
   "metadata": {},
   "source": [
    "# 3. In loan defaulters older people make up only 1.4%. Now the probability that someone defaults on a loan is 0.184, Find the probability of default on loan knowing that he is an old person. Older people make up only 0.8%"
   ]
  },
  {
   "cell_type": "code",
   "execution_count": null,
   "id": "dc704c23",
   "metadata": {},
   "outputs": [],
   "source": [
    "In this case, the event A is defaulting on the loan, and event B is being an old person. Using Bayes' theorem, we can calculate the probability of default on loan given that the person is an old person as follows:\n",
    "\n",
    "P(A|B) = P(B|A) * P(A) / P(B)\n",
    "\n",
    "Where:\n",
    "\n",
    "P(A|B) is the probability of default on loan given that the person is an old person.\n",
    "P(B|A) is the probability of being an old person given that the person has defaulted on the loan. This is given as 1.4%.\n",
    "P(A) is the probability of default on loan for any person, given as 0.184.\n",
    "P(B) is the probability of being an old person for any person, given as 0.008.\n",
    "Plugging in the values, we get:\n",
    "\n",
    "P(A|B) = 0.014 * 0.184 / 0.008\n",
    "P(A|B) = 0.85\n",
    "\n",
    "Therefore, the probability of default on loan given that the person is an old person is 0.85.\n",
    "\n",
    "\n",
    "\n",
    "\n"
   ]
  },
  {
   "cell_type": "code",
   "execution_count": null,
   "id": "505cd493",
   "metadata": {},
   "outputs": [],
   "source": []
  },
  {
   "cell_type": "code",
   "execution_count": null,
   "id": "88e03bbd",
   "metadata": {},
   "outputs": [],
   "source": []
  },
  {
   "cell_type": "markdown",
   "id": "96481182",
   "metadata": {},
   "source": [
    "# 4. Define Bayes theorem and write the formulae."
   ]
  },
  {
   "cell_type": "code",
   "execution_count": null,
   "id": "13bbf876",
   "metadata": {},
   "outputs": [],
   "source": [
    "Bayes' theorem is a mathematical formula that describes the relationship between the conditional probabilities of events, given some prior knowledge. It provides a way to update our beliefs about the probabilities of events, given new information.\n",
    "\n",
    "The formula for Bayes' theorem is:\n",
    "\n",
    "P(A | B) = P(B | A) * P(A) / P(B)\n",
    "\n",
    "Where:\n",
    "\n",
    "P(A | B) is the conditional probability of event A occurring given that event B has occurred.\n",
    "P(B | A) is the conditional probability of event B occurring given that event A has occurred.\n",
    "P(A) is the prior probability of event A occurring.\n",
    "P(B) is the prior probability of event B occurring."
   ]
  },
  {
   "cell_type": "code",
   "execution_count": null,
   "id": "82824753",
   "metadata": {},
   "outputs": [],
   "source": []
  },
  {
   "cell_type": "code",
   "execution_count": null,
   "id": "9178308a",
   "metadata": {},
   "outputs": [],
   "source": []
  },
  {
   "cell_type": "markdown",
   "id": "9be6a038",
   "metadata": {},
   "source": [
    "# 5. Solve the below problem using Bayes theorem: \n",
    "\n",
    "# Spam Assassin works by having users train the system. It looks for  patterns in the words in emails marked as spam by the user.\n",
    "\t\n",
    "# For example, it may have learned that the word “free” appears in 30%  of the mails marked as spam, i.e., P(Free | Spam) = 0.30. Assuming  1% of non-spam mail includes the word “free” and 50% of all mails  received by the user are spam, find the probability that a mail is  spam if the word “free” appears in it.\n"
   ]
  },
  {
   "cell_type": "code",
   "execution_count": null,
   "id": "9264a60a",
   "metadata": {},
   "outputs": [],
   "source": [
    "The problem can be solved using Bayes Theorem, which states that:\n",
    "\n",
    "P(A | B) = P(B | A) * P(A) / P(B)\n",
    "\n",
    "Where P(A | B) is the probability of event A given event B has occurred, P(B | A) is the probability of event B given event A has occurred, P(A) is the prior probability of event A, and P(B) is the prior probability of event B.\n",
    "\n",
    "Given,\n",
    "\n",
    "P(Free | Spam) = 0.30\n",
    "P(Free | Not Spam) = 0.01\n",
    "P(Spam) = 0.50\n",
    "\n",
    "We need to find the probability P(Spam | Free) i.e. the probability that a mail is spam given that the word \"free\" appears in it.\n",
    "\n",
    "Using Bayes Theorem,\n",
    "\n",
    "P(Spam | Free) = P(Free | Spam) * P(Spam) / P(Free)\n",
    "\n",
    "Where,\n",
    "P(Free) = P(Free | Spam) * P(Spam) + P(Free | Not Spam) * P(Not Spam)\n",
    "P(Not Spam) = 1 - P(Spam)\n",
    "\n",
    "Substituting the values,\n",
    "\n",
    "P(Free) = 0.30 * 0.50 + 0.01 * (1 - 0.50) = 0.165\n",
    "\n",
    "P(Spam | Free) = 0.30 * 0.50 / 0.165 = 0.909\n",
    "\n",
    "Hence, the probability that a mail is spam given that the word \"free\" appears in it is 0.909."
   ]
  },
  {
   "cell_type": "code",
   "execution_count": null,
   "id": "4f534432",
   "metadata": {},
   "outputs": [],
   "source": []
  },
  {
   "cell_type": "code",
   "execution_count": null,
   "id": "5de0ce9f",
   "metadata": {},
   "outputs": [],
   "source": []
  }
 ],
 "metadata": {
  "kernelspec": {
   "display_name": "Python 3 (ipykernel)",
   "language": "python",
   "name": "python3"
  },
  "language_info": {
   "codemirror_mode": {
    "name": "ipython",
    "version": 3
   },
   "file_extension": ".py",
   "mimetype": "text/x-python",
   "name": "python",
   "nbconvert_exporter": "python",
   "pygments_lexer": "ipython3",
   "version": "3.9.13"
  }
 },
 "nbformat": 4,
 "nbformat_minor": 5
}
